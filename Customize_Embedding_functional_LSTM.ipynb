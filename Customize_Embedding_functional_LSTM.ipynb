{
  "nbformat": 4,
  "nbformat_minor": 0,
  "metadata": {
    "colab": {
      "name": "feature추가모델_혜림",
      "provenance": [],
      "collapsed_sections": []
    },
    "kernelspec": {
      "name": "python3",
      "display_name": "Python 3"
    }
  },
  "cells": [
    {
      "cell_type": "markdown",
      "metadata": {
        "id": "_3LcHWdoaKXK"
      },
      "source": [
        "#**Cutomize Embedding model**\r\n",
        "\r\n"
      ]
    },
    {
      "cell_type": "code",
      "metadata": {
        "id": "FwAQw1o2Av2C"
      },
      "source": [
        "# konlpy Mecab 사용하기\r\n",
        "\r\n",
        "!set -x \\\r\n",
        "&& pip install konlpy \\\r\n",
        "&& curl -s https://raw.githubusercontent.com/konlpy/konlpy/master/scripts/mecab.sh | bash -x"
      ],
      "execution_count": null,
      "outputs": []
    },
    {
      "cell_type": "code",
      "metadata": {
        "colab": {
          "base_uri": "https://localhost:8080/"
        },
        "id": "Pxp2JcmbNN_l",
        "outputId": "e9c2b832-7ae5-4f4b-d5dd-d3e7b10344b8"
      },
      "source": [
        "# 내 드라이브에 대한 주소\r\n",
        "from google.colab import drive\r\n",
        "drive.mount('/gdrive', force_remount=True)"
      ],
      "execution_count": 2,
      "outputs": [
        {
          "output_type": "stream",
          "text": [
            "Mounted at /gdrive\n"
          ],
          "name": "stdout"
        }
      ]
    },
    {
      "cell_type": "code",
      "metadata": {
        "id": "xH9XAIwVNM6i"
      },
      "source": [
        "import numpy as np\r\n",
        "import pandas as pd\r\n",
        "import tensorflow as tf\r\n",
        "from tensorflow import keras\r\n",
        "import seaborn as sns\r\n",
        "import matplotlib.pyplot as plt"
      ],
      "execution_count": 3,
      "outputs": []
    },
    {
      "cell_type": "code",
      "metadata": {
        "id": "tR74GZMCBBuz"
      },
      "source": [
        "# 내 드라이브에 대한 주소\r\n",
        "path = \"/gdrive//My Drive/dacon_news/\"\r\n",
        "\r\n",
        "train = pd.read_csv(path + \"data/news_train.csv\")\r\n",
        "#try_train = pd.read_csv(\"try_title_data.csv\")\r\n",
        "test = pd.read_csv(path + \"data/news_test.csv\")"
      ],
      "execution_count": 4,
      "outputs": []
    },
    {
      "cell_type": "markdown",
      "metadata": {
        "id": "o346VrtzZatW"
      },
      "source": [
        "# content 맨앞이 [이거나 (이면 0"
      ]
    },
    {
      "cell_type": "code",
      "metadata": {
        "id": "bcwUcZBRVEvd"
      },
      "source": [
        "train[\"content_startswith_[\"]=train.content.apply(lambda x : str(x).startswith(\"[\" ) or str(x).startswith(\"(\") or str(x).startswith(\"제목\"))+0"
      ],
      "execution_count": 5,
      "outputs": []
    },
    {
      "cell_type": "markdown",
      "metadata": {
        "id": "upG2RgbFWdeb"
      },
      "source": [
        "# 타이틀을 이용한 feature\r\n",
        "- 해당 title에 몇가지 단어가 들어갈 경우 약 90% 이상이 info가 1"
      ]
    },
    {
      "cell_type": "code",
      "metadata": {
        "id": "zKfe60qER799"
      },
      "source": [
        "\"\"\"\r\n",
        "title_noise = ['적중 100%', '글로벌 주요 뉴스', '[전문가 의견]', \r\n",
        "               '[포커스]', '※','■', '▶' ,'◆','★',' TOP', 'BEST',\r\n",
        "'전문가의 눈', '전문가선정', '전문가의견','】','후속주도 감사합니다',\r\n",
        "               '전문가추천', '주요이슈']\r\n",
        "\r\n",
        "def title_choose(x):\r\n",
        "  if (\"종목\" in x[\"title\"][-6:]) or (\"관련주\" in x[\"title\"][-5:]):\r\n",
        "    return 1\r\n",
        "  elif ('00%' in x[\"content\"]) or (x[\"content\"]==\"코스피\") or (x[\"content\"]==\"코스닥\"):\r\n",
        "    return 1\r\n",
        "  elif ('TOP' in x[\"content\"].upper()) or ('BEST' in x[\"content\"].upper()):\r\n",
        "    return 1\r\n",
        "  for noise in title_noise:\r\n",
        "    if noise in x[\"title\"].upper():\r\n",
        "      if (x[\"content\"][:2]==\"제목\") or (x[\"content\"][:1]==\"[\"):\r\n",
        "        return 0\r\n",
        "      else:\r\n",
        "        return 1\r\n",
        "  return 0\r\n",
        "  \"\"\""
      ],
      "execution_count": null,
      "outputs": []
    },
    {
      "cell_type": "code",
      "metadata": {
        "id": "iOIXetvBV--H"
      },
      "source": [
        "title_noise = ['적중 100%', '글로벌 주요 뉴스', '[전문가 의견]', \r\n",
        "               '[포커스]', '※','■', '▶' ,'◆','★',' TOP', 'BEST',\r\n",
        "'전문가의 눈', '전문가선정', '전문가의견','】','후속주도 감사합니다',\r\n",
        "               '전문가추천', '주요이슈']\r\n",
        "\r\n",
        "def title_choose(x):\r\n",
        "  if (\"종목\" in x[-6:]) or (\"관련주\" in x[-5:]):\r\n",
        "    return 1\r\n",
        "  for noise in title_noise:\r\n",
        "    if noise in x.upper():\r\n",
        "        return 1\r\n",
        "  return 0"
      ],
      "execution_count": 6,
      "outputs": []
    },
    {
      "cell_type": "code",
      "metadata": {
        "id": "LpT_MW-019mj"
      },
      "source": [
        "train[\"info1_title\"]=train['title'].apply(title_choose)"
      ],
      "execution_count": 7,
      "outputs": []
    },
    {
      "cell_type": "markdown",
      "metadata": {
        "id": "JP_h-HL7RmvU"
      },
      "source": [
        "# content를 이용한 feature"
      ]
    },
    {
      "cell_type": "code",
      "metadata": {
        "id": "NlrmrsR1RqCo"
      },
      "source": [
        "content_noise = ['00%', '긴급공개', '긴급 공개','임상3상', 'TOP','BEST','# ','대장株','대장주','카톡','원\"만']\r\n",
        "\r\n",
        "def content_choose(x):\r\n",
        "  if (x.count(\"..\")>=2) or (x.count(\"+\")>=2) or (x.count(\"~\")>=2) :\r\n",
        "    return 1\r\n",
        "  elif (x=='관련기사') or (x==\"관련 테마분석\") or (x==\"코스피\") or (x==\"코스닥\"):\r\n",
        "    return 1\r\n",
        "  for noise in content_noise:\r\n",
        "    if noise in x.upper():\r\n",
        "        return 1\r\n",
        "  return 0"
      ],
      "execution_count": 8,
      "outputs": []
    },
    {
      "cell_type": "code",
      "metadata": {
        "id": "YWoQmRopTf79"
      },
      "source": [
        "train[\"info1_content\"]=train[\"content\"].apply(content_choose)"
      ],
      "execution_count": 9,
      "outputs": []
    },
    {
      "cell_type": "markdown",
      "metadata": {
        "id": "vbS7TN-xgARn"
      },
      "source": [
        "# Order을 이용한 feature"
      ]
    },
    {
      "cell_type": "code",
      "metadata": {
        "id": "P5Tf50Emf-39"
      },
      "source": [
        "title_group = (train.groupby([\"title\"]).count())[\"n_id\"]\r\n",
        "train[\"new_ord\"]=train.apply(lambda x: x[\"ord\"]/title_group[x[\"title\"]], axis=1)"
      ],
      "execution_count": 10,
      "outputs": []
    },
    {
      "cell_type": "markdown",
      "metadata": {
        "id": "0TOb5PyeZc40"
      },
      "source": [
        "# tokenization"
      ]
    },
    {
      "cell_type": "code",
      "metadata": {
        "id": "s9C_faJHpBB8"
      },
      "source": [
        "from konlpy.tag import Mecab\r\n",
        "import re\r\n",
        "from konlpy.tag import Okt\r\n",
        "\r\n",
        "def text_preprocessing(text_list):\r\n",
        "    \r\n",
        "    stopwords = []\r\n",
        "    tokenizer = Mecab() #형태소 분석기\r\n",
        "\r\n",
        "    token_list = [] \r\n",
        "    \r\n",
        "    for text in text_list:\r\n",
        "        txt = re.sub(\"[a-zA-Z0-9]\", ' ', text) #영문, 숫자 제거\r\n",
        "        txt = re.sub('[가-힣\\s]+기자]','기자', txt) #기자 이름 제거\r\n",
        "        token = tokenizer.morphs(txt) #형태소 분석\r\n",
        "\r\n",
        "        token = [t for t in token] \r\n",
        "        token_list.append(token)\r\n",
        "        \r\n",
        "    return token_list, tokenizer\r\n",
        "\r\n",
        "#형태소 분석기를 따로 저장한 이유는 후에 test 데이터 전처리를 진행할 때 이용해야 되기 때문입니다.\r\n",
        "train['new_article'], okt = text_preprocessing(train['content'])"
      ],
      "execution_count": 11,
      "outputs": []
    },
    {
      "cell_type": "code",
      "metadata": {
        "id": "9fJgEe3joxSc"
      },
      "source": [
        "# 결측치 제거\r\n",
        "train = train[train[\"new_article\"].apply(lambda x: False if len(x)==0 else True)]"
      ],
      "execution_count": 12,
      "outputs": []
    },
    {
      "cell_type": "markdown",
      "metadata": {
        "id": "Cyht3PbGT7SR"
      },
      "source": [
        "# Vectorization"
      ]
    },
    {
      "cell_type": "code",
      "metadata": {
        "id": "F5O1nOzRK2AR",
        "colab": {
          "base_uri": "https://localhost:8080/"
        },
        "outputId": "e9b8987d-983a-46b4-87be-62681f743dc5"
      },
      "source": [
        "from tensorflow.keras.preprocessing.text import Tokenizer\r\n",
        "from tensorflow.keras.preprocessing.sequence import pad_sequences\r\n",
        "max_len = 60\r\n",
        "\r\n",
        "def text2sequence(train_text, max_len=100):\r\n",
        "    \r\n",
        "    tokenizer = Tokenizer()\r\n",
        "    tokenizer.fit_on_texts(train_text)\r\n",
        "    train_X_seq = tokenizer.texts_to_sequences(train_text)\r\n",
        "    vocab_size = len(tokenizer.word_index) + 1\r\n",
        "    print('vocab_size : ', vocab_size)\r\n",
        "    X_train = pad_sequences(train_X_seq, maxlen = max_len, truncating=\"post\") # 길이를 맞춰줌\r\n",
        "    return X_train, vocab_size, tokenizer\r\n",
        "\r\n",
        "train_y = train['info']\r\n",
        "train_X, vocab_size, vectorizer = text2sequence(train['new_article'], max_len = max_len)\r\n",
        "\r\n",
        "print(train_X.shape, train_y.shape)"
      ],
      "execution_count": 13,
      "outputs": [
        {
          "output_type": "stream",
          "text": [
            "vocab_size :  33798\n",
            "(118676, 60) (118676,)\n"
          ],
          "name": "stdout"
        }
      ]
    },
    {
      "cell_type": "markdown",
      "metadata": {
        "id": "C8iGEGCizF2Z"
      },
      "source": [
        "# Word2Vec"
      ]
    },
    {
      "cell_type": "code",
      "metadata": {
        "id": "VD2cSguB8uG6"
      },
      "source": [
        "import gensim\r\n",
        "from gensim.models.keyedvectors import KeyedVectors"
      ],
      "execution_count": 15,
      "outputs": []
    },
    {
      "cell_type": "code",
      "metadata": {
        "id": "z_Q7-70BR5oO"
      },
      "source": [
        "# 구글 word2vec 모델\r\n",
        "\r\n",
        "#word2vec_g = gensim.models.KeyedVectors.load_word2vec_format(path+'embedding/GoogleNews-vectors-negative300.bin.gz', binary = True)\r\n",
        "#embedding_size = 300"
      ],
      "execution_count": null,
      "outputs": []
    },
    {
      "cell_type": "code",
      "metadata": {
        "id": "xd5zy8_5fwvT"
      },
      "source": [
        "# 한국어 word2vec model\r\n",
        "#word2vec2 = gensim.models.Word2Vec.load(path+'embedding/ko.bin')\r\n",
        "#embedding_size = 200"
      ],
      "execution_count": null,
      "outputs": []
    },
    {
      "cell_type": "code",
      "metadata": {
        "id": "bVpNijXJOOm-"
      },
      "source": [
        "\"\"\"\r\n",
        "2. # load the whole embedding into memory\r\n",
        "glove = dict()\r\n",
        "embedding_size = 100\r\n",
        "f = open(path+'embedding/word-embeddings/glove/glove.txt')\r\n",
        "for line in f:\r\n",
        "    values = line.split()\r\n",
        "    word = values[0]\r\n",
        "    vector = np.asarray(values[1:], dtype='float32')\r\n",
        "    glove[word] = vector\r\n",
        "f.close()\r\n",
        "\"\"\""
      ],
      "execution_count": null,
      "outputs": []
    },
    {
      "cell_type": "code",
      "metadata": {
        "id": "6TmBQu-PJ0w2"
      },
      "source": [
        "# 직접 만든 word2vec model\r\n",
        "#word2vec_customize = gensim.models.Word2Vec.load(\"embedding_300_6_10_all.model\")\r\n",
        "word2vec_customize = gensim.models.Word2Vec.load(path+\"embedding/embedding_300_10_30_all.model\")\r\n",
        "embedding_size = 300"
      ],
      "execution_count": 51,
      "outputs": []
    },
    {
      "cell_type": "code",
      "metadata": {
        "id": "EdSnbO4xWykD",
        "colab": {
          "base_uri": "https://localhost:8080/"
        },
        "outputId": "0e5070ef-2bf4-4a6a-958d-0b0ffa689e87"
      },
      "source": [
        "embedding_matrix = np.zeros((vocab_size, embedding_size))\r\n",
        "vocab = vectorizer.word_index\r\n",
        "count = 0\r\n",
        "\r\n",
        "for idx, word in enumerate(vocab):\r\n",
        "    if word in word2vec_customize:\r\n",
        "      embedding_vector = word2vec_customize[word]\r\n",
        "      embedding_matrix[idx] = embedding_vector\r\n",
        "    else: # 임베딩 모델에 없는 것\r\n",
        "      #print(word, \"word2vec에 없는 단어입니다.\")\r\n",
        "      count += 1\r\n",
        "      pass\r\n",
        "\r\n",
        "print('count: ', count)  "
      ],
      "execution_count": 52,
      "outputs": [
        {
          "output_type": "stream",
          "text": [
            "count:  25472\n"
          ],
          "name": "stdout"
        },
        {
          "output_type": "stream",
          "text": [
            "/usr/local/lib/python3.6/dist-packages/ipykernel_launcher.py:6: DeprecationWarning: Call to deprecated `__contains__` (Method will be removed in 4.0.0, use self.wv.__contains__() instead).\n",
            "  \n",
            "/usr/local/lib/python3.6/dist-packages/ipykernel_launcher.py:7: DeprecationWarning: Call to deprecated `__getitem__` (Method will be removed in 4.0.0, use self.wv.__getitem__() instead).\n",
            "  import sys\n"
          ],
          "name": "stderr"
        }
      ]
    },
    {
      "cell_type": "markdown",
      "metadata": {
        "id": "6E9L7Gp6HcxM"
      },
      "source": [
        "#train test split"
      ]
    },
    {
      "cell_type": "code",
      "metadata": {
        "id": "OoqDYSIMXgSE"
      },
      "source": [
        "#concat\r\n",
        "feature_num = 4\r\n",
        "train_X = np.concatenate([train_X,train[[\"info1_title\",\"info1_content\",\"new_ord\",\"content_startswith_[\"]].values.reshape(-1,feature_num)], axis=1)\r\n",
        "\r\n",
        "# 문장별로 train_test set 분리\r\n",
        "from sklearn.model_selection import train_test_split\r\n",
        "\r\n",
        "X_train, X_valid, y_train, y_valid = train_test_split(train_X, train_y, random_state = 42, test_size = 0.3)"
      ],
      "execution_count": 23,
      "outputs": []
    },
    {
      "cell_type": "code",
      "metadata": {
        "id": "TPG9MRVr24ot"
      },
      "source": [
        "index_seq = (X_train.argmax(axis=1)).argsort(axis=0)\r\n",
        "X_train = X_train[index_seq]\r\n",
        "y_train = y_train.iloc[index_seq]"
      ],
      "execution_count": null,
      "outputs": []
    },
    {
      "cell_type": "markdown",
      "metadata": {
        "id": "a2Vqd61JSdLQ"
      },
      "source": [
        "#모델링"
      ]
    },
    {
      "cell_type": "code",
      "metadata": {
        "id": "IOrznz_nNk33"
      },
      "source": [
        "# EDA기반으로 만든 feature 예측변수로 추가\r\n",
        "from keras import regularizers\r\n",
        "\r\n",
        "def LSTM_add_feature(vocab_size, embedding_size = 100, max_len=100):\r\n",
        "  input1 = keras.layers.Input(shape = [max_len,]) #문장 단어 input\r\n",
        "  input2 = keras.layers.Input(shape = [feature_num,]) # EDA기반 feature input\r\n",
        "\r\n",
        "  # LSTM\r\n",
        "  embedding = keras.layers.Embedding(vocab_size, embedding_size, weights = [embedding_matrix], input_length = max_len)(input1) # 임베딩 가중치 적용\r\n",
        "  dropout1 = keras.layers.SpatialDropout1D(0.3)(embedding)\r\n",
        "  lstm1 = keras.layers.LSTM(32, return_sequences = True)(dropout1)\r\n",
        "  lstm2 = keras.layers.LSTM(32)(lstm1)\r\n",
        "  dropout2 = keras.layers.Dropout(0.5)(lstm2)\r\n",
        "  #lstm_output = keras.layers.Dense(16, activation = \"selu\")(dropout2)\r\n",
        "\r\n",
        "  # MLP\r\n",
        "  concat = keras.layers.concatenate([dropout2,input2])\r\n",
        "  hidden = keras.layers.Dense(32, activation = \"selu\")(concat)\r\n",
        "  output = keras.layers.Dense(1, activation = \"sigmoid\")(hidden)\r\n",
        "\r\n",
        "  model = keras.Model(inputs = [input1, input2], outputs = [output])\r\n",
        "\r\n",
        "  model.compile(optimizer=keras.optimizers.Adam(lr=learning_rate), loss=\"binary_crossentropy\", metrics = \"accuracy\")\r\n",
        "  model.summary()\r\n",
        "  return model\r\n"
      ],
      "execution_count": 42,
      "outputs": []
    },
    {
      "cell_type": "code",
      "metadata": {
        "id": "vLyta-R27x7b",
        "colab": {
          "base_uri": "https://localhost:8080/",
          "height": 980
        },
        "outputId": "7ed30ef9-9be7-478d-d523-07b51a08da3b"
      },
      "source": [
        "# 훈련 시\r\n",
        "tf.random.set_seed(42)\r\n",
        "\r\n",
        "\r\n",
        "checkpoint_cb = keras.callbacks.ModelCheckpoint(\"hyerim_add_feature_best_model2.h5\",\r\n",
        "                                               save_best_only = True)\r\n",
        "\r\n",
        "# 하이퍼파라미터\r\n",
        "max_epoch = 5\r\n",
        "batch_size = 32\r\n",
        "learning_rate = 0.001\r\n",
        "\r\n",
        "model = LSTM_add_feature(vocab_size, max_len = max_len, embedding_size = embedding_size)\r\n",
        "history = model.fit(x=[X_train[:,:max_len],X_train[:,-feature_num:]], y=y_train, epochs=max_epoch,\r\n",
        "                batch_size = batch_size,  validation_data = ((X_valid[:,:max_len],X_valid[:,-feature_num:]),y_valid), validation_batch_size = batch_size,\r\n",
        "                 callbacks = [checkpoint_cb])"
      ],
      "execution_count": 50,
      "outputs": [
        {
          "output_type": "stream",
          "text": [
            "Model: \"model_1\"\n",
            "__________________________________________________________________________________________________\n",
            "Layer (type)                    Output Shape         Param #     Connected to                     \n",
            "==================================================================================================\n",
            "input_13 (InputLayer)           [(None, 60)]         0                                            \n",
            "__________________________________________________________________________________________________\n",
            "embedding_1 (Embedding)         (None, 60, 300)      10139400    input_13[0][0]                   \n",
            "__________________________________________________________________________________________________\n",
            "spatial_dropout1d_1 (SpatialDro (None, 60, 300)      0           embedding_1[0][0]                \n",
            "__________________________________________________________________________________________________\n",
            "lstm_2 (LSTM)                   (None, 60, 32)       42624       spatial_dropout1d_1[0][0]        \n",
            "__________________________________________________________________________________________________\n",
            "lstm_3 (LSTM)                   (None, 32)           8320        lstm_2[0][0]                     \n",
            "__________________________________________________________________________________________________\n",
            "dropout_1 (Dropout)             (None, 32)           0           lstm_3[0][0]                     \n",
            "__________________________________________________________________________________________________\n",
            "input_14 (InputLayer)           [(None, 4)]          0                                            \n",
            "__________________________________________________________________________________________________\n",
            "concatenate_1 (Concatenate)     (None, 36)           0           dropout_1[0][0]                  \n",
            "                                                                 input_14[0][0]                   \n",
            "__________________________________________________________________________________________________\n",
            "dense_2 (Dense)                 (None, 32)           1184        concatenate_1[0][0]              \n",
            "__________________________________________________________________________________________________\n",
            "dense_3 (Dense)                 (None, 1)            33          dense_2[0][0]                    \n",
            "==================================================================================================\n",
            "Total params: 10,191,561\n",
            "Trainable params: 10,191,561\n",
            "Non-trainable params: 0\n",
            "__________________________________________________________________________________________________\n",
            "Epoch 1/5\n",
            "2597/2597 [==============================] - 443s 169ms/step - loss: 0.0896 - accuracy: 0.9667 - val_loss: 0.0245 - val_accuracy: 0.9917\n",
            "Epoch 2/5\n",
            "2597/2597 [==============================] - 436s 168ms/step - loss: 0.0134 - accuracy: 0.9956 - val_loss: 0.0213 - val_accuracy: 0.9930\n",
            "Epoch 3/5\n",
            " 177/2597 [=>............................] - ETA: 6:27 - loss: 0.0073 - accuracy: 0.9982"
          ],
          "name": "stdout"
        },
        {
          "output_type": "error",
          "ename": "KeyboardInterrupt",
          "evalue": "ignored",
          "traceback": [
            "\u001b[0;31m---------------------------------------------------------------------------\u001b[0m",
            "\u001b[0;31mKeyboardInterrupt\u001b[0m                         Traceback (most recent call last)",
            "\u001b[0;32m<ipython-input-50-11df1e25ceea>\u001b[0m in \u001b[0;36m<module>\u001b[0;34m()\u001b[0m\n\u001b[1;32m     14\u001b[0m history = model.fit(x=[X_train[:,:max_len],X_train[:,-feature_num:]], y=y_train, epochs=max_epoch,\n\u001b[1;32m     15\u001b[0m                 \u001b[0mbatch_size\u001b[0m \u001b[0;34m=\u001b[0m \u001b[0mbatch_size\u001b[0m\u001b[0;34m,\u001b[0m  \u001b[0mvalidation_data\u001b[0m \u001b[0;34m=\u001b[0m \u001b[0;34m(\u001b[0m\u001b[0;34m(\u001b[0m\u001b[0mX_valid\u001b[0m\u001b[0;34m[\u001b[0m\u001b[0;34m:\u001b[0m\u001b[0;34m,\u001b[0m\u001b[0;34m:\u001b[0m\u001b[0mmax_len\u001b[0m\u001b[0;34m]\u001b[0m\u001b[0;34m,\u001b[0m\u001b[0mX_valid\u001b[0m\u001b[0;34m[\u001b[0m\u001b[0;34m:\u001b[0m\u001b[0;34m,\u001b[0m\u001b[0;34m-\u001b[0m\u001b[0mfeature_num\u001b[0m\u001b[0;34m:\u001b[0m\u001b[0;34m]\u001b[0m\u001b[0;34m)\u001b[0m\u001b[0;34m,\u001b[0m\u001b[0my_valid\u001b[0m\u001b[0;34m)\u001b[0m\u001b[0;34m,\u001b[0m \u001b[0mvalidation_batch_size\u001b[0m \u001b[0;34m=\u001b[0m \u001b[0mbatch_size\u001b[0m\u001b[0;34m,\u001b[0m\u001b[0;34m\u001b[0m\u001b[0;34m\u001b[0m\u001b[0m\n\u001b[0;32m---> 16\u001b[0;31m                  callbacks = [checkpoint_cb])\n\u001b[0m",
            "\u001b[0;32m/usr/local/lib/python3.6/dist-packages/tensorflow/python/keras/engine/training.py\u001b[0m in \u001b[0;36mfit\u001b[0;34m(self, x, y, batch_size, epochs, verbose, callbacks, validation_split, validation_data, shuffle, class_weight, sample_weight, initial_epoch, steps_per_epoch, validation_steps, validation_batch_size, validation_freq, max_queue_size, workers, use_multiprocessing)\u001b[0m\n\u001b[1;32m   1098\u001b[0m                 _r=1):\n\u001b[1;32m   1099\u001b[0m               \u001b[0mcallbacks\u001b[0m\u001b[0;34m.\u001b[0m\u001b[0mon_train_batch_begin\u001b[0m\u001b[0;34m(\u001b[0m\u001b[0mstep\u001b[0m\u001b[0;34m)\u001b[0m\u001b[0;34m\u001b[0m\u001b[0;34m\u001b[0m\u001b[0m\n\u001b[0;32m-> 1100\u001b[0;31m               \u001b[0mtmp_logs\u001b[0m \u001b[0;34m=\u001b[0m \u001b[0mself\u001b[0m\u001b[0;34m.\u001b[0m\u001b[0mtrain_function\u001b[0m\u001b[0;34m(\u001b[0m\u001b[0miterator\u001b[0m\u001b[0;34m)\u001b[0m\u001b[0;34m\u001b[0m\u001b[0;34m\u001b[0m\u001b[0m\n\u001b[0m\u001b[1;32m   1101\u001b[0m               \u001b[0;32mif\u001b[0m \u001b[0mdata_handler\u001b[0m\u001b[0;34m.\u001b[0m\u001b[0mshould_sync\u001b[0m\u001b[0;34m:\u001b[0m\u001b[0;34m\u001b[0m\u001b[0;34m\u001b[0m\u001b[0m\n\u001b[1;32m   1102\u001b[0m                 \u001b[0mcontext\u001b[0m\u001b[0;34m.\u001b[0m\u001b[0masync_wait\u001b[0m\u001b[0;34m(\u001b[0m\u001b[0;34m)\u001b[0m\u001b[0;34m\u001b[0m\u001b[0;34m\u001b[0m\u001b[0m\n",
            "\u001b[0;32m/usr/local/lib/python3.6/dist-packages/tensorflow/python/eager/def_function.py\u001b[0m in \u001b[0;36m__call__\u001b[0;34m(self, *args, **kwds)\u001b[0m\n\u001b[1;32m    826\u001b[0m     \u001b[0mtracing_count\u001b[0m \u001b[0;34m=\u001b[0m \u001b[0mself\u001b[0m\u001b[0;34m.\u001b[0m\u001b[0mexperimental_get_tracing_count\u001b[0m\u001b[0;34m(\u001b[0m\u001b[0;34m)\u001b[0m\u001b[0;34m\u001b[0m\u001b[0;34m\u001b[0m\u001b[0m\n\u001b[1;32m    827\u001b[0m     \u001b[0;32mwith\u001b[0m \u001b[0mtrace\u001b[0m\u001b[0;34m.\u001b[0m\u001b[0mTrace\u001b[0m\u001b[0;34m(\u001b[0m\u001b[0mself\u001b[0m\u001b[0;34m.\u001b[0m\u001b[0m_name\u001b[0m\u001b[0;34m)\u001b[0m \u001b[0;32mas\u001b[0m \u001b[0mtm\u001b[0m\u001b[0;34m:\u001b[0m\u001b[0;34m\u001b[0m\u001b[0;34m\u001b[0m\u001b[0m\n\u001b[0;32m--> 828\u001b[0;31m       \u001b[0mresult\u001b[0m \u001b[0;34m=\u001b[0m \u001b[0mself\u001b[0m\u001b[0;34m.\u001b[0m\u001b[0m_call\u001b[0m\u001b[0;34m(\u001b[0m\u001b[0;34m*\u001b[0m\u001b[0margs\u001b[0m\u001b[0;34m,\u001b[0m \u001b[0;34m**\u001b[0m\u001b[0mkwds\u001b[0m\u001b[0;34m)\u001b[0m\u001b[0;34m\u001b[0m\u001b[0;34m\u001b[0m\u001b[0m\n\u001b[0m\u001b[1;32m    829\u001b[0m       \u001b[0mcompiler\u001b[0m \u001b[0;34m=\u001b[0m \u001b[0;34m\"xla\"\u001b[0m \u001b[0;32mif\u001b[0m \u001b[0mself\u001b[0m\u001b[0;34m.\u001b[0m\u001b[0m_experimental_compile\u001b[0m \u001b[0;32melse\u001b[0m \u001b[0;34m\"nonXla\"\u001b[0m\u001b[0;34m\u001b[0m\u001b[0;34m\u001b[0m\u001b[0m\n\u001b[1;32m    830\u001b[0m       \u001b[0mnew_tracing_count\u001b[0m \u001b[0;34m=\u001b[0m \u001b[0mself\u001b[0m\u001b[0;34m.\u001b[0m\u001b[0mexperimental_get_tracing_count\u001b[0m\u001b[0;34m(\u001b[0m\u001b[0;34m)\u001b[0m\u001b[0;34m\u001b[0m\u001b[0;34m\u001b[0m\u001b[0m\n",
            "\u001b[0;32m/usr/local/lib/python3.6/dist-packages/tensorflow/python/eager/def_function.py\u001b[0m in \u001b[0;36m_call\u001b[0;34m(self, *args, **kwds)\u001b[0m\n\u001b[1;32m    853\u001b[0m       \u001b[0;31m# In this case we have created variables on the first call, so we run the\u001b[0m\u001b[0;34m\u001b[0m\u001b[0;34m\u001b[0m\u001b[0;34m\u001b[0m\u001b[0m\n\u001b[1;32m    854\u001b[0m       \u001b[0;31m# defunned version which is guaranteed to never create variables.\u001b[0m\u001b[0;34m\u001b[0m\u001b[0;34m\u001b[0m\u001b[0;34m\u001b[0m\u001b[0m\n\u001b[0;32m--> 855\u001b[0;31m       \u001b[0;32mreturn\u001b[0m \u001b[0mself\u001b[0m\u001b[0;34m.\u001b[0m\u001b[0m_stateless_fn\u001b[0m\u001b[0;34m(\u001b[0m\u001b[0;34m*\u001b[0m\u001b[0margs\u001b[0m\u001b[0;34m,\u001b[0m \u001b[0;34m**\u001b[0m\u001b[0mkwds\u001b[0m\u001b[0;34m)\u001b[0m  \u001b[0;31m# pylint: disable=not-callable\u001b[0m\u001b[0;34m\u001b[0m\u001b[0;34m\u001b[0m\u001b[0m\n\u001b[0m\u001b[1;32m    856\u001b[0m     \u001b[0;32melif\u001b[0m \u001b[0mself\u001b[0m\u001b[0;34m.\u001b[0m\u001b[0m_stateful_fn\u001b[0m \u001b[0;32mis\u001b[0m \u001b[0;32mnot\u001b[0m \u001b[0;32mNone\u001b[0m\u001b[0;34m:\u001b[0m\u001b[0;34m\u001b[0m\u001b[0;34m\u001b[0m\u001b[0m\n\u001b[1;32m    857\u001b[0m       \u001b[0;31m# Release the lock early so that multiple threads can perform the call\u001b[0m\u001b[0;34m\u001b[0m\u001b[0;34m\u001b[0m\u001b[0;34m\u001b[0m\u001b[0m\n",
            "\u001b[0;32m/usr/local/lib/python3.6/dist-packages/tensorflow/python/eager/function.py\u001b[0m in \u001b[0;36m__call__\u001b[0;34m(self, *args, **kwargs)\u001b[0m\n\u001b[1;32m   2941\u001b[0m        filtered_flat_args) = self._maybe_define_function(args, kwargs)\n\u001b[1;32m   2942\u001b[0m     return graph_function._call_flat(\n\u001b[0;32m-> 2943\u001b[0;31m         filtered_flat_args, captured_inputs=graph_function.captured_inputs)  # pylint: disable=protected-access\n\u001b[0m\u001b[1;32m   2944\u001b[0m \u001b[0;34m\u001b[0m\u001b[0m\n\u001b[1;32m   2945\u001b[0m   \u001b[0;34m@\u001b[0m\u001b[0mproperty\u001b[0m\u001b[0;34m\u001b[0m\u001b[0;34m\u001b[0m\u001b[0m\n",
            "\u001b[0;32m/usr/local/lib/python3.6/dist-packages/tensorflow/python/eager/function.py\u001b[0m in \u001b[0;36m_call_flat\u001b[0;34m(self, args, captured_inputs, cancellation_manager)\u001b[0m\n\u001b[1;32m   1917\u001b[0m       \u001b[0;31m# No tape is watching; skip to running the function.\u001b[0m\u001b[0;34m\u001b[0m\u001b[0;34m\u001b[0m\u001b[0;34m\u001b[0m\u001b[0m\n\u001b[1;32m   1918\u001b[0m       return self._build_call_outputs(self._inference_function.call(\n\u001b[0;32m-> 1919\u001b[0;31m           ctx, args, cancellation_manager=cancellation_manager))\n\u001b[0m\u001b[1;32m   1920\u001b[0m     forward_backward = self._select_forward_and_backward_functions(\n\u001b[1;32m   1921\u001b[0m         \u001b[0margs\u001b[0m\u001b[0;34m,\u001b[0m\u001b[0;34m\u001b[0m\u001b[0;34m\u001b[0m\u001b[0m\n",
            "\u001b[0;32m/usr/local/lib/python3.6/dist-packages/tensorflow/python/eager/function.py\u001b[0m in \u001b[0;36mcall\u001b[0;34m(self, ctx, args, cancellation_manager)\u001b[0m\n\u001b[1;32m    558\u001b[0m               \u001b[0minputs\u001b[0m\u001b[0;34m=\u001b[0m\u001b[0margs\u001b[0m\u001b[0;34m,\u001b[0m\u001b[0;34m\u001b[0m\u001b[0;34m\u001b[0m\u001b[0m\n\u001b[1;32m    559\u001b[0m               \u001b[0mattrs\u001b[0m\u001b[0;34m=\u001b[0m\u001b[0mattrs\u001b[0m\u001b[0;34m,\u001b[0m\u001b[0;34m\u001b[0m\u001b[0;34m\u001b[0m\u001b[0m\n\u001b[0;32m--> 560\u001b[0;31m               ctx=ctx)\n\u001b[0m\u001b[1;32m    561\u001b[0m         \u001b[0;32melse\u001b[0m\u001b[0;34m:\u001b[0m\u001b[0;34m\u001b[0m\u001b[0;34m\u001b[0m\u001b[0m\n\u001b[1;32m    562\u001b[0m           outputs = execute.execute_with_cancellation(\n",
            "\u001b[0;32m/usr/local/lib/python3.6/dist-packages/tensorflow/python/eager/execute.py\u001b[0m in \u001b[0;36mquick_execute\u001b[0;34m(op_name, num_outputs, inputs, attrs, ctx, name)\u001b[0m\n\u001b[1;32m     58\u001b[0m     \u001b[0mctx\u001b[0m\u001b[0;34m.\u001b[0m\u001b[0mensure_initialized\u001b[0m\u001b[0;34m(\u001b[0m\u001b[0;34m)\u001b[0m\u001b[0;34m\u001b[0m\u001b[0;34m\u001b[0m\u001b[0m\n\u001b[1;32m     59\u001b[0m     tensors = pywrap_tfe.TFE_Py_Execute(ctx._handle, device_name, op_name,\n\u001b[0;32m---> 60\u001b[0;31m                                         inputs, attrs, num_outputs)\n\u001b[0m\u001b[1;32m     61\u001b[0m   \u001b[0;32mexcept\u001b[0m \u001b[0mcore\u001b[0m\u001b[0;34m.\u001b[0m\u001b[0m_NotOkStatusException\u001b[0m \u001b[0;32mas\u001b[0m \u001b[0me\u001b[0m\u001b[0;34m:\u001b[0m\u001b[0;34m\u001b[0m\u001b[0;34m\u001b[0m\u001b[0m\n\u001b[1;32m     62\u001b[0m     \u001b[0;32mif\u001b[0m \u001b[0mname\u001b[0m \u001b[0;32mis\u001b[0m \u001b[0;32mnot\u001b[0m \u001b[0;32mNone\u001b[0m\u001b[0;34m:\u001b[0m\u001b[0;34m\u001b[0m\u001b[0;34m\u001b[0m\u001b[0m\n",
            "\u001b[0;31mKeyboardInterrupt\u001b[0m: "
          ]
        }
      ]
    },
    {
      "cell_type": "code",
      "metadata": {
        "id": "JUSGWJvkDgiD"
      },
      "source": [
        "best_model = keras.models.load_model(\"hyerim_add_feature_best_model2.h5\") # 저장된 모델 불러오기\r\n",
        "plt.plot(pd.DataFrame(history.history)) 0.0249 0.0211"
      ],
      "execution_count": null,
      "outputs": []
    },
    {
      "cell_type": "code",
      "metadata": {
        "colab": {
          "base_uri": "https://localhost:8080/"
        },
        "id": "O3X-721afCH9",
        "outputId": "8b5c547a-8b84-4e8e-f643-f83c414b48b2"
      },
      "source": [
        "# 성능\r\n",
        "best_model.evaluate((X_valid[:,:-feature_num],X_valid[:,-feature_num:]),y_valid)"
      ],
      "execution_count": null,
      "outputs": [
        {
          "output_type": "stream",
          "text": [
            "WARNING:tensorflow:Model was constructed with shape (None, 300) for input Tensor(\"input_23_1:0\", shape=(None, 300), dtype=float32), but it was called on an input with incompatible shape (None, 100).\n"
          ],
          "name": "stdout"
        }
      ]
    },
    {
      "cell_type": "markdown",
      "metadata": {
        "id": "QTGrQTG0_DcA"
      },
      "source": [
        "# 최종 훈련"
      ]
    },
    {
      "cell_type": "code",
      "metadata": {
        "colab": {
          "base_uri": "https://localhost:8080/"
        },
        "id": "zf-Kb3yW4JeQ",
        "outputId": "bce97232-c8a0-4b83-b6d6-74a504b305be"
      },
      "source": [
        "# 실제 예측시\r\n",
        "index_seq = (train_X.argmax(axis=1)).argsort(axis=0)\r\n",
        "sort_train_X = train_X[index_seq]\r\n",
        "sort_train_y = train_y.iloc[index_seq]\r\n",
        "\r\n",
        "\r\n",
        "tf.random.set_seed(2020)\r\n",
        "\r\n",
        "# 하이퍼파라미터\r\n",
        "max_epoch = 2\r\n",
        "batch_size = 32\r\n",
        "learning_rate = 0.001\r\n",
        "\r\n",
        "model = LSTM_add_feature(vocab_size, max_len = max_len, embedding_size = embedding_size)\r\n",
        "history = model.fit(x=[sort_train_X[:,:-feature_num],sort_train_X[:,-feature_num:]], y=sort_train_y,epochs=max_epoch,batch_size = batch_size)\r\n"
      ],
      "execution_count": null,
      "outputs": [
        {
          "output_type": "stream",
          "text": [
            "Model: \"model_1\"\n",
            "__________________________________________________________________________________________________\n",
            "Layer (type)                    Output Shape         Param #     Connected to                     \n",
            "==================================================================================================\n",
            "input_3 (InputLayer)            [(None, 60)]         0                                            \n",
            "__________________________________________________________________________________________________\n",
            "embedding_1 (Embedding)         (None, 60, 300)      10139400    input_3[0][0]                    \n",
            "__________________________________________________________________________________________________\n",
            "spatial_dropout1d_1 (SpatialDro (None, 60, 300)      0           embedding_1[0][0]                \n",
            "__________________________________________________________________________________________________\n",
            "lstm_2 (LSTM)                   (None, 60, 32)       42624       spatial_dropout1d_1[0][0]        \n",
            "__________________________________________________________________________________________________\n",
            "lstm_3 (LSTM)                   (None, 32)           8320        lstm_2[0][0]                     \n",
            "__________________________________________________________________________________________________\n",
            "dropout_1 (Dropout)             (None, 32)           0           lstm_3[0][0]                     \n",
            "__________________________________________________________________________________________________\n",
            "input_4 (InputLayer)            [(None, 4)]          0                                            \n",
            "__________________________________________________________________________________________________\n",
            "concatenate_1 (Concatenate)     (None, 36)           0           dropout_1[0][0]                  \n",
            "                                                                 input_4[0][0]                    \n",
            "__________________________________________________________________________________________________\n",
            "dense_2 (Dense)                 (None, 32)           1184        concatenate_1[0][0]              \n",
            "__________________________________________________________________________________________________\n",
            "dense_3 (Dense)                 (None, 1)            33          dense_2[0][0]                    \n",
            "==================================================================================================\n",
            "Total params: 10,191,561\n",
            "Trainable params: 10,191,561\n",
            "Non-trainable params: 0\n",
            "__________________________________________________________________________________________________\n",
            "Epoch 1/2\n",
            "3709/3709 [==============================] - 589s 158ms/step - loss: 0.0756 - accuracy: 0.9715\n",
            "Epoch 2/2\n",
            "3709/3709 [==============================] - 590s 159ms/step - loss: 0.0122 - accuracy: 0.9963\n"
          ],
          "name": "stdout"
        }
      ]
    },
    {
      "cell_type": "code",
      "metadata": {
        "id": "laEwou3JphOQ"
      },
      "source": [
        "model.save(\"final_model_99.3.h5\")"
      ],
      "execution_count": null,
      "outputs": []
    },
    {
      "cell_type": "markdown",
      "metadata": {
        "id": "GwVlY_L6oFw4"
      },
      "source": [
        "# 전문장, 전전문장의 예측결과값을 이용하여 예측값 보정"
      ]
    },
    {
      "cell_type": "code",
      "metadata": {
        "id": "0AYUPwxlrcI1"
      },
      "source": [
        "final_model = keras.models.load_model(\"final_model_99.3.h5\")"
      ],
      "execution_count": null,
      "outputs": []
    },
    {
      "cell_type": "code",
      "metadata": {
        "id": "IKiS-EO0xssX"
      },
      "source": [
        "pd.DataFrame(train_predicted).to_csv(\"./train_predicted.csv\",index=False)"
      ],
      "execution_count": null,
      "outputs": []
    },
    {
      "cell_type": "code",
      "metadata": {
        "id": "SfCyi7aR2kDS"
      },
      "source": [
        "train_predicted = final_model.predict((train_X[:,:max_len],train_X[:,-feature_num:]))\r\n",
        "\r\n",
        "# 각 문장의 바로 앞문장과, 그 앞 문장의 예측값 생성\r\n",
        "train_pre_predicted1 = np.array([train_predicted[idx-1][0] for idx in range(len(train_predicted))]).reshape(-1,1) # 앞문장\r\n",
        "train_pre_predicted2 = np.array([train_predicted[idx-2][0] for idx in range(len(train_predicted))]).reshape(-1,1) # 앞앞문장\r\n",
        "#train_pre_predicted3 = np.array([train_predicted[idx-3][0] for idx in range(len(train_predicted))]).reshape(-1,1) # 앞앞앞문장"
      ],
      "execution_count": null,
      "outputs": []
    },
    {
      "cell_type": "code",
      "metadata": {
        "id": "EI32y8JjAVEN"
      },
      "source": [
        "# ord가 1이면 앞문장, 앞앞문장 자기값으로 대체\r\n",
        "# ord가 2이면 앞앞문장 앞문장으로 대체\r\n",
        "\r\n",
        "train[\"predicted\"]=train_predicted\r\n",
        "train[\"pre_predicted1\"]=train_pre_predicted1\r\n",
        "train[\"pre_predicted2\"]=train_pre_predicted2\r\n",
        "\r\n",
        "#train.loc[train[\"ord\"]==1,\"pre_predicted1\"]=train_predicted[train[\"ord\"]==1]\r\n",
        "#train.loc[train[\"ord\"]==1,\"pre_predicted2\"]=train_predicted[train[\"ord\"]==1]\r\n",
        "#train.loc[train[\"ord\"]==2,\"pre_predicted2\"]=train_predicted1[train[\"ord\"]==2]"
      ],
      "execution_count": null,
      "outputs": []
    },
    {
      "cell_type": "code",
      "metadata": {
        "id": "GCEViUqawB4k"
      },
      "source": [
        "final_X = train[[\"predicted\",\"pre_predicted1\",\"pre_predicted2\"]][(train[\"ord\"]!=1)&(train[\"ord\"]!=2)]\r\n",
        "final_y = train[\"info\"][(train[\"ord\"]!=1)&(train[\"ord\"]!=2)]\r\n",
        "final_X_train, final_X_valid, final_y_train, final_y_valid = train_test_split(final_X, final_y,test_size = 0.3, random_state = 42)"
      ],
      "execution_count": null,
      "outputs": []
    },
    {
      "cell_type": "code",
      "metadata": {
        "id": "to4KDsxX0lbj",
        "colab": {
          "base_uri": "https://localhost:8080/"
        },
        "outputId": "5b642302-cbfc-401d-b7d9-7cfbc575d242"
      },
      "source": [
        "# tree 모델 불러오기\r\n",
        "import pickle\r\n",
        "import xgboost as xgb\r\n",
        "from xgboost import XGBClassifier\r\n",
        "from lightgbm import LGBMClassifier\r\n",
        "from sklearn.neural_network import MLPClassifier\r\n",
        "\r\n",
        "np.random.seed(42)\r\n",
        "random_index = np.random.randint(0,len(final_X),len(final_X))\r\n",
        "\r\n",
        "# xgb model 예측\r\n",
        "xgb_model=XGBClassifier(random_state=42)\r\n",
        "lgbm_model=LGBMClassifier(random_state=42)\r\n",
        "mlp_model = MLPClassifier(random_state=42)\r\n",
        "\r\n",
        "with open(path+'model/new_xgb_model.pkl', 'wb') as f:\r\n",
        "  pickle.dump(xgb_model, f)\r\n",
        "with open(path+'model/lgbm_new.pkl','wb') as f:\r\n",
        "  pickle.dump(lgbm_model,f)\r\n",
        "with open(path+'model/mlp_new.pkl','wb') as f:\r\n",
        "  pickle.dump(mlp_model,f)\r\n",
        "\r\n",
        "xgb_model.fit(final_X.iloc[random_index], y=final_y.iloc[random_index])\r\n",
        "lgbm_model.fit(final_X.iloc[random_index], y=final_y.iloc[random_index])\r\n",
        "#mlp_model.fit(final_X.iloc[random_index], y=final_y.iloc[random_index])"
      ],
      "execution_count": null,
      "outputs": [
        {
          "output_type": "execute_result",
          "data": {
            "text/plain": [
              "LGBMClassifier(boosting_type='gbdt', class_weight=None, colsample_bytree=1.0,\n",
              "               importance_type='split', learning_rate=0.1, max_depth=-1,\n",
              "               min_child_samples=20, min_child_weight=0.001, min_split_gain=0.0,\n",
              "               n_estimators=100, n_jobs=-1, num_leaves=31, objective=None,\n",
              "               random_state=42, reg_alpha=0.0, reg_lambda=0.0, silent=True,\n",
              "               subsample=1.0, subsample_for_bin=200000, subsample_freq=0)"
            ]
          },
          "metadata": {
            "tags": []
          },
          "execution_count": 37
        }
      ]
    },
    {
      "cell_type": "code",
      "metadata": {
        "id": "gKXg-UbCp3DX"
      },
      "source": [
        "def Lag_MLP():\r\n",
        "  model = keras.models.Sequential([\r\n",
        "    keras.layers.Dense(16, input_shape = (3,)),\r\n",
        "    keras.layers.Dense(1)                \r\n",
        "  ])\r\n",
        "  model.compile(optimizer=keras.optimizers.Adam(lr=learning_rate), loss=\"binary_crossentropy\", metrics = \"accuracy\")\r\n",
        "  model.summary()\r\n",
        "  return model"
      ],
      "execution_count": null,
      "outputs": []
    },
    {
      "cell_type": "code",
      "metadata": {
        "id": "XG5Zx2ymt_hm"
      },
      "source": [
        "# 시퀀셜 LSTM 모델\r\n",
        "\r\n",
        "def Lag_RNN():\r\n",
        "    model = keras.models.Sequential()\r\n",
        "    model.add(keras.layers.Input(shape=(3,1)))\r\n",
        "    model.add(keras.layers.SimpleRNN(32))\r\n",
        "    model.add(keras.layers.Dense(1, activation='sigmoid'))\r\n",
        "    model.compile(optimizer='adam', loss='binary_crossentropy', metrics='accuracy')\r\n",
        "    model.summary()\r\n",
        "    return model"
      ],
      "execution_count": null,
      "outputs": []
    },
    {
      "cell_type": "code",
      "metadata": {
        "colab": {
          "base_uri": "https://localhost:8080/"
        },
        "id": "qqeDPwzPuFkl",
        "outputId": "746638b0-0e56-445b-a113-ec222bd4874d"
      },
      "source": [
        "# 하이퍼파라미터\r\n",
        "tf.random.set_seed(42)\r\n",
        "\r\n",
        "max_epoch = 3\r\n",
        "batch_size = 100\r\n",
        "learning_rate = 0.0001\r\n",
        "\r\n",
        "lag_model = Lag_RNN()\r\n",
        "lag_model.fit(x=final_X_train.values.reshape(-1,3,1), y=final_y_train,\r\n",
        "              validation_data = (final_X_valid.values.reshape(-1,3,1), final_y_valid), batch_size = batch_size, validation_batch_size = batch_size,\r\n",
        "              epochs = max_epoch)"
      ],
      "execution_count": null,
      "outputs": [
        {
          "output_type": "stream",
          "text": [
            "Model: \"sequential\"\n",
            "_________________________________________________________________\n",
            "Layer (type)                 Output Shape              Param #   \n",
            "=================================================================\n",
            "simple_rnn (SimpleRNN)       (None, 32)                1088      \n",
            "_________________________________________________________________\n",
            "dense_4 (Dense)              (None, 1)                 33        \n",
            "=================================================================\n",
            "Total params: 1,121\n",
            "Trainable params: 1,121\n",
            "Non-trainable params: 0\n",
            "_________________________________________________________________\n",
            "Epoch 1/3\n",
            "780/780 [==============================] - 3s 3ms/step - loss: 0.1569 - accuracy: 0.9669 - val_loss: 0.0037 - val_accuracy: 0.9993\n",
            "Epoch 2/3\n",
            "780/780 [==============================] - 2s 2ms/step - loss: 0.0037 - accuracy: 0.9992 - val_loss: 0.0033 - val_accuracy: 0.9993\n",
            "Epoch 3/3\n",
            "780/780 [==============================] - 2s 2ms/step - loss: 0.0035 - accuracy: 0.9991 - val_loss: 0.0034 - val_accuracy: 0.9994\n"
          ],
          "name": "stdout"
        },
        {
          "output_type": "execute_result",
          "data": {
            "text/plain": [
              "<tensorflow.python.keras.callbacks.History at 0x7fa943cb60b8>"
            ]
          },
          "metadata": {
            "tags": []
          },
          "execution_count": 33
        }
      ]
    },
    {
      "cell_type": "code",
      "metadata": {
        "colab": {
          "base_uri": "https://localhost:8080/"
        },
        "id": "M1rA037K2csV",
        "outputId": "8657ba6e-4dc3-4154-efc1-f7433bcb2d09"
      },
      "source": [
        "np.random.seed(42)\r\n",
        "random_index = np.random.randint(0,len(final_X),len(final_X))\r\n",
        "\r\n",
        "# 하이퍼파라미터\r\n",
        "tf.random.set_seed(42)\r\n",
        "\r\n",
        "max_epoch = 2\r\n",
        "batch_size = 32\r\n",
        "learning_rate = 0.0001\r\n",
        "\r\n",
        "lag_model = Lag_RNN()\r\n",
        "lag_model.fit(x=final_X.values.reshape(-1,3,1)[random_index], y=final_y.iloc[random_index],\r\n",
        "              epochs = max_epoch)"
      ],
      "execution_count": null,
      "outputs": [
        {
          "output_type": "stream",
          "text": [
            "Model: \"sequential_2\"\n",
            "_________________________________________________________________\n",
            "Layer (type)                 Output Shape              Param #   \n",
            "=================================================================\n",
            "simple_rnn_2 (SimpleRNN)     (None, 32)                1088      \n",
            "_________________________________________________________________\n",
            "dense_6 (Dense)              (None, 1)                 33        \n",
            "=================================================================\n",
            "Total params: 1,121\n",
            "Trainable params: 1,121\n",
            "Non-trainable params: 0\n",
            "_________________________________________________________________\n",
            "Epoch 1/2\n",
            "3480/3480 [==============================] - 7s 2ms/step - loss: 0.0553 - accuracy: 0.9894\n",
            "Epoch 2/2\n",
            "3480/3480 [==============================] - 6s 2ms/step - loss: 0.0042 - accuracy: 0.9991\n"
          ],
          "name": "stdout"
        },
        {
          "output_type": "execute_result",
          "data": {
            "text/plain": [
              "<tensorflow.python.keras.callbacks.History at 0x7fa946f65630>"
            ]
          },
          "metadata": {
            "tags": []
          },
          "execution_count": 35
        }
      ]
    },
    {
      "cell_type": "code",
      "metadata": {
        "colab": {
          "base_uri": "https://localhost:8080/"
        },
        "id": "OVKLgFtHqpbx",
        "outputId": "c067187d-3bd3-4302-a4e8-81320f4f19a5"
      },
      "source": [
        "# 하이퍼파라미터\r\n",
        "tf.random.set_seed(42)\r\n",
        "\r\n",
        "max_epoch = 5\r\n",
        "batch_size = 32\r\n",
        "learning_rate = 0.0001\r\n",
        "\r\n",
        "lag_model = Lag_MLP()\r\n",
        "lag_model.fit(x=final_X_train, y=final_y_train,\r\n",
        "              validation_data = (final_X_valid, final_y_valid), batch_size = batch_size, validation_batch_size = batch_size,\r\n",
        "              epochs = max_epoch)"
      ],
      "execution_count": null,
      "outputs": [
        {
          "output_type": "stream",
          "text": [
            "Model: \"sequential_18\"\n",
            "_________________________________________________________________\n",
            "Layer (type)                 Output Shape              Param #   \n",
            "=================================================================\n",
            "dense_36 (Dense)             (None, 16)                64        \n",
            "_________________________________________________________________\n",
            "dense_37 (Dense)             (None, 1)                 17        \n",
            "=================================================================\n",
            "Total params: 81\n",
            "Trainable params: 81\n",
            "Non-trainable params: 0\n",
            "_________________________________________________________________\n",
            "Epoch 1/5\n",
            "2591/2591 [==============================] - 4s 1ms/step - loss: 0.1086 - accuracy: 0.9493 - val_loss: 0.0130 - val_accuracy: 0.9977\n",
            "Epoch 2/5\n",
            "2591/2591 [==============================] - 4s 1ms/step - loss: 0.0113 - accuracy: 0.9976 - val_loss: 0.0129 - val_accuracy: 0.9977\n",
            "Epoch 3/5\n",
            "2591/2591 [==============================] - 4s 1ms/step - loss: 0.0102 - accuracy: 0.9979 - val_loss: 0.0119 - val_accuracy: 0.9977\n",
            "Epoch 4/5\n",
            "2591/2591 [==============================] - 4s 1ms/step - loss: 0.0126 - accuracy: 0.9975 - val_loss: 0.0115 - val_accuracy: 0.9977\n",
            "Epoch 5/5\n",
            "2591/2591 [==============================] - 4s 1ms/step - loss: 0.0121 - accuracy: 0.9977 - val_loss: 0.0109 - val_accuracy: 0.9977\n"
          ],
          "name": "stdout"
        },
        {
          "output_type": "execute_result",
          "data": {
            "text/plain": [
              "<tensorflow.python.keras.callbacks.History at 0x7f481f47c630>"
            ]
          },
          "metadata": {
            "tags": []
          },
          "execution_count": 158
        }
      ]
    },
    {
      "cell_type": "markdown",
      "metadata": {
        "id": "LDjRKT6a_Tx3"
      },
      "source": [
        "# test 예측"
      ]
    },
    {
      "cell_type": "code",
      "metadata": {
        "id": "efZxw2tUiMfr"
      },
      "source": [
        "path = \"/gdrive/My Drive/dacon_news/\"\r\n",
        "feature_num = 4\r\n",
        "test = pd.read_csv(path+\"data/news_test.csv\")\r\n",
        "\r\n",
        "# EDA 기반 feature 추가\r\n",
        "test[\"info1_title\"]=test[\"title\"].apply(title_choose)\r\n",
        "test[\"info1_content\"]=test[\"content\"].apply(content_choose)\r\n",
        "test[\"content_startswith_[\"]=test.content.apply(lambda x : str(x).startswith(\"[\" ) or str(x).startswith(\"(\") or str(x).startswith(\"제목\"))+0\r\n",
        "title_group = (test.groupby([\"title\"]).count())[\"n_id\"]\r\n",
        "test[\"new_ord\"]=test.apply(lambda x: x[\"ord\"]/title_group[x[\"title\"]], axis=1)\r\n",
        "#test[\"info1_words\"]=test[\"content\"].apply(in_bull)\r\n",
        "\r\n",
        "# 전처리\r\n",
        "test['new_article'], okt = text_preprocessing(test['content'])\r\n",
        "test_X_seq = vectorizer.texts_to_sequences(test[\"new_article\"])\r\n",
        "test_X = pad_sequences(test_X_seq, maxlen = max_len) # 길이를 맞춰줌\r\n",
        "\r\n",
        "# concat\r\n",
        "test_X = np.concatenate([test_X,test[[\"info1_title\",\"info1_content\",\"new_ord\",\"content_startswith_[\"]].values.reshape(-1,feature_num)], axis=1)"
      ],
      "execution_count": null,
      "outputs": []
    },
    {
      "cell_type": "code",
      "metadata": {
        "id": "wtfXQsVKkuAQ"
      },
      "source": [
        "#final_model = keras.models.load_model(path+\"model/final_model_99_epoch2.h5\") # 저장된 모델 불러오기\r\n",
        "final_model = keras.models.load_model(\"final_model_99.3.h5\")\r\n",
        "predicted = final_model.predict([test_X[:,:max_len],test_X[:,-feature_num:]])"
      ],
      "execution_count": null,
      "outputs": []
    },
    {
      "cell_type": "code",
      "metadata": {
        "id": "_ncycsgEs4jH"
      },
      "source": [
        "# idx-1의 예측값\r\n",
        "pre_predicted1 = np.array([predicted[idx-1][0] for idx in range(len(predicted))]).reshape(-1,1)\r\n",
        "pre_predicted2 = np.array([predicted[idx-2][0] for idx in range(len(predicted))]).reshape(-1,1)\r\n",
        "\r\n",
        "test[\"predicted\"]=predicted\r\n",
        "test[\"pre_predicted1\"]=pre_predicted1\r\n",
        "test[\"pre_predicted2\"]=pre_predicted2\r\n",
        "\r\n",
        "# ord가 1이면 과거 1년도, 2년도 자기값으로 대체\r\n",
        "# ord가 2이면 과거 2년도 자기값으로 대체\r\n",
        "test.loc[test[\"ord\"]==1,\"pre_predicted1\"]=predicted[test[\"ord\"]==1]\r\n",
        "test.loc[test[\"ord\"]==1,\"pre_predicted2\"]=predicted[test[\"ord\"]==1]\r\n",
        "test.loc[test[\"ord\"]==2,\"pre_predicted2\"]=predicted[test[\"ord\"]==2]"
      ],
      "execution_count": null,
      "outputs": []
    },
    {
      "cell_type": "code",
      "metadata": {
        "id": "G8Wg-C6duF37"
      },
      "source": [
        "xgb_final_predicted = xgb_model.predict(test[[\"predicted\",\"pre_predicted1\",\"pre_predicted2\"]])\r\n",
        "lgbm_final_predicted = lgbm_model.predict(test[[\"predicted\",\"pre_predicted1\",\"pre_predicted2\"]])\r\n",
        "rnn_final_predicted = lag_model.predict(test[[\"predicted\",\"pre_predicted1\",\"pre_predicted2\"]].values.reshape(-1,3,1))"
      ],
      "execution_count": null,
      "outputs": []
    },
    {
      "cell_type": "code",
      "metadata": {
        "id": "2eyxDj1Gts9k",
        "colab": {
          "base_uri": "https://localhost:8080/"
        },
        "outputId": "d11036f9-6b21-4d3a-e5e4-e41fd64f00d3"
      },
      "source": [
        "test[\"info\"]=lgbm_final_predicted\r\n",
        "test[\"info\"][test[\"ord\"]==1]=(test[\"predicted\"][test[\"ord\"]==1]>=0.6)+0\r\n",
        "test[\"info\"][test[\"ord\"]==2]=(test[\"predicted\"][test[\"ord\"]==2]>=0.6)+0\r\n",
        "#test[\"info\"][test[\"content\"].apply(lambda x: True if \"무단전재 & 재배포 금지\" in x else False)]=0\r\n",
        "test[\"info\"][test[\"content\"].apply(lambda x: True if ('http://etoday.bujane.co.kr/' in x) or ('http://bit.ly/2XrAuGJ_itoozanews' in x) or ('http://www.hisl.co.kr/0306/' in x) or ('https://www.hankyung.com/election2020/' in x) or (x==']]') else False)]=1\r\n",
        "#test[\"info\"][test[\"predicted\"]>=0.6]=1"
      ],
      "execution_count": null,
      "outputs": [
        {
          "output_type": "stream",
          "text": [
            "/usr/local/lib/python3.6/dist-packages/ipykernel_launcher.py:2: SettingWithCopyWarning: \n",
            "A value is trying to be set on a copy of a slice from a DataFrame\n",
            "\n",
            "See the caveats in the documentation: https://pandas.pydata.org/pandas-docs/stable/user_guide/indexing.html#returning-a-view-versus-a-copy\n",
            "  \n",
            "/usr/local/lib/python3.6/dist-packages/ipykernel_launcher.py:3: SettingWithCopyWarning: \n",
            "A value is trying to be set on a copy of a slice from a DataFrame\n",
            "\n",
            "See the caveats in the documentation: https://pandas.pydata.org/pandas-docs/stable/user_guide/indexing.html#returning-a-view-versus-a-copy\n",
            "  This is separate from the ipykernel package so we can avoid doing imports until\n"
          ],
          "name": "stderr"
        }
      ]
    },
    {
      "cell_type": "markdown",
      "metadata": {
        "id": "budSlGRTnrTs"
      },
      "source": [
        "# Submission"
      ]
    },
    {
      "cell_type": "code",
      "metadata": {
        "id": "BygcXFgCDoPl"
      },
      "source": [
        "submission = pd.read_csv(path+\"/data/sample_submission.csv\")\r\n",
        "submission[\"info\"]=test['info'].apply(lambda x: 1 if x>=0.6 else 0)\r\n",
        "submission.to_csv(\"submission.csv\", encoding=\"utf-8-sig\",index=False)"
      ],
      "execution_count": null,
      "outputs": []
    },
    {
      "cell_type": "code",
      "metadata": {
        "colab": {
          "base_uri": "https://localhost:8080/",
          "height": 407
        },
        "id": "akY5YcbRuGXW",
        "outputId": "a025d865-7a20-476e-a24c-6e1c786dbef0"
      },
      "source": [
        "submission"
      ],
      "execution_count": null,
      "outputs": [
        {
          "output_type": "execute_result",
          "data": {
            "text/html": [
              "<div>\n",
              "<style scoped>\n",
              "    .dataframe tbody tr th:only-of-type {\n",
              "        vertical-align: middle;\n",
              "    }\n",
              "\n",
              "    .dataframe tbody tr th {\n",
              "        vertical-align: top;\n",
              "    }\n",
              "\n",
              "    .dataframe thead th {\n",
              "        text-align: right;\n",
              "    }\n",
              "</style>\n",
              "<table border=\"1\" class=\"dataframe\">\n",
              "  <thead>\n",
              "    <tr style=\"text-align: right;\">\n",
              "      <th></th>\n",
              "      <th>id</th>\n",
              "      <th>info</th>\n",
              "    </tr>\n",
              "  </thead>\n",
              "  <tbody>\n",
              "    <tr>\n",
              "      <th>0</th>\n",
              "      <td>NEWS00237_1</td>\n",
              "      <td>0</td>\n",
              "    </tr>\n",
              "    <tr>\n",
              "      <th>1</th>\n",
              "      <td>NEWS00237_2</td>\n",
              "      <td>0</td>\n",
              "    </tr>\n",
              "    <tr>\n",
              "      <th>2</th>\n",
              "      <td>NEWS00237_3</td>\n",
              "      <td>0</td>\n",
              "    </tr>\n",
              "    <tr>\n",
              "      <th>3</th>\n",
              "      <td>NEWS00237_4</td>\n",
              "      <td>0</td>\n",
              "    </tr>\n",
              "    <tr>\n",
              "      <th>4</th>\n",
              "      <td>NEWS00237_5</td>\n",
              "      <td>0</td>\n",
              "    </tr>\n",
              "    <tr>\n",
              "      <th>...</th>\n",
              "      <td>...</td>\n",
              "      <td>...</td>\n",
              "    </tr>\n",
              "    <tr>\n",
              "      <th>142560</th>\n",
              "      <td>NEWS09482_72</td>\n",
              "      <td>1</td>\n",
              "    </tr>\n",
              "    <tr>\n",
              "      <th>142561</th>\n",
              "      <td>NEWS09482_73</td>\n",
              "      <td>1</td>\n",
              "    </tr>\n",
              "    <tr>\n",
              "      <th>142562</th>\n",
              "      <td>NEWS09482_74</td>\n",
              "      <td>1</td>\n",
              "    </tr>\n",
              "    <tr>\n",
              "      <th>142563</th>\n",
              "      <td>NEWS09482_75</td>\n",
              "      <td>1</td>\n",
              "    </tr>\n",
              "    <tr>\n",
              "      <th>142564</th>\n",
              "      <td>NEWS09482_76</td>\n",
              "      <td>1</td>\n",
              "    </tr>\n",
              "  </tbody>\n",
              "</table>\n",
              "<p>142565 rows × 2 columns</p>\n",
              "</div>"
            ],
            "text/plain": [
              "                  id  info\n",
              "0        NEWS00237_1     0\n",
              "1        NEWS00237_2     0\n",
              "2        NEWS00237_3     0\n",
              "3        NEWS00237_4     0\n",
              "4        NEWS00237_5     0\n",
              "...              ...   ...\n",
              "142560  NEWS09482_72     1\n",
              "142561  NEWS09482_73     1\n",
              "142562  NEWS09482_74     1\n",
              "142563  NEWS09482_75     1\n",
              "142564  NEWS09482_76     1\n",
              "\n",
              "[142565 rows x 2 columns]"
            ]
          },
          "metadata": {
            "tags": []
          },
          "execution_count": 59
        }
      ]
    }
  ]
}