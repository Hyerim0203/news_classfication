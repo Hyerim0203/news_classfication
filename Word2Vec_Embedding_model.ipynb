{
  "nbformat": 4,
  "nbformat_minor": 0,
  "metadata": {
    "colab": {
      "name": "Word2Vec_Embedding_model",
      "provenance": [],
      "collapsed_sections": [],
      "toc_visible": true
    },
    "kernelspec": {
      "name": "python3",
      "display_name": "Python 3"
    }
  },
  "cells": [
    {
      "cell_type": "code",
      "metadata": {
        "id": "FwAQw1o2Av2C"
      },
      "source": [
        "# konlpy Mecab 사용하기\r\n",
        "\r\n",
        "!set -x \\\r\n",
        "&& pip install konlpy \\\r\n",
        "&& curl -s https://raw.githubusercontent.com/konlpy/konlpy/master/scripts/mecab.sh | bash -x"
      ],
      "execution_count": null,
      "outputs": []
    },
    {
      "cell_type": "code",
      "metadata": {
        "colab": {
          "base_uri": "https://localhost:8080/"
        },
        "id": "V37NJICIXWXk",
        "outputId": "278dfd1d-5305-47eb-e249-c49326d4118f"
      },
      "source": [
        "!pip install glove_python"
      ],
      "execution_count": null,
      "outputs": [
        {
          "output_type": "stream",
          "text": [
            "Collecting glove_python\n",
            "\u001b[?25l  Downloading https://files.pythonhosted.org/packages/3e/79/7e7e548dd9dcb741935d031117f4bed133276c2a047aadad42f1552d1771/glove_python-0.1.0.tar.gz (263kB)\n",
            "\r\u001b[K     |█▎                              | 10kB 17.7MB/s eta 0:00:01\r\u001b[K     |██▌                             | 20kB 22.4MB/s eta 0:00:01\r\u001b[K     |███▊                            | 30kB 15.2MB/s eta 0:00:01\r\u001b[K     |█████                           | 40kB 10.9MB/s eta 0:00:01\r\u001b[K     |██████▎                         | 51kB 5.0MB/s eta 0:00:01\r\u001b[K     |███████▌                        | 61kB 5.8MB/s eta 0:00:01\r\u001b[K     |████████▊                       | 71kB 6.6MB/s eta 0:00:01\r\u001b[K     |██████████                      | 81kB 7.2MB/s eta 0:00:01\r\u001b[K     |███████████▏                    | 92kB 7.0MB/s eta 0:00:01\r\u001b[K     |████████████▌                   | 102kB 7.5MB/s eta 0:00:01\r\u001b[K     |█████████████▊                  | 112kB 7.5MB/s eta 0:00:01\r\u001b[K     |███████████████                 | 122kB 7.5MB/s eta 0:00:01\r\u001b[K     |████████████████▏               | 133kB 7.5MB/s eta 0:00:01\r\u001b[K     |█████████████████▍              | 143kB 7.5MB/s eta 0:00:01\r\u001b[K     |██████████████████▊             | 153kB 7.5MB/s eta 0:00:01\r\u001b[K     |████████████████████            | 163kB 7.5MB/s eta 0:00:01\r\u001b[K     |█████████████████████▏          | 174kB 7.5MB/s eta 0:00:01\r\u001b[K     |██████████████████████▍         | 184kB 7.5MB/s eta 0:00:01\r\u001b[K     |███████████████████████▋        | 194kB 7.5MB/s eta 0:00:01\r\u001b[K     |█████████████████████████       | 204kB 7.5MB/s eta 0:00:01\r\u001b[K     |██████████████████████████▏     | 215kB 7.5MB/s eta 0:00:01\r\u001b[K     |███████████████████████████▍    | 225kB 7.5MB/s eta 0:00:01\r\u001b[K     |████████████████████████████▋   | 235kB 7.5MB/s eta 0:00:01\r\u001b[K     |█████████████████████████████▉  | 245kB 7.5MB/s eta 0:00:01\r\u001b[K     |███████████████████████████████▏| 256kB 7.5MB/s eta 0:00:01\r\u001b[K     |████████████████████████████████| 266kB 7.5MB/s \n",
            "\u001b[?25hRequirement already satisfied: numpy in /usr/local/lib/python3.6/dist-packages (from glove_python) (1.19.4)\n",
            "Requirement already satisfied: scipy in /usr/local/lib/python3.6/dist-packages (from glove_python) (1.4.1)\n",
            "Building wheels for collected packages: glove-python\n",
            "  Building wheel for glove-python (setup.py) ... \u001b[?25l\u001b[?25hdone\n",
            "  Created wheel for glove-python: filename=glove_python-0.1.0-cp36-cp36m-linux_x86_64.whl size=702587 sha256=51f94269367a23274ebb26f9c7507443dc93ec63dc82b52cfc9f829956a3accf\n",
            "  Stored in directory: /root/.cache/pip/wheels/88/4b/6d/10c0d2ad32c9d9d68beec9694a6f0b6e83ab1662a90a089a4b\n",
            "Successfully built glove-python\n",
            "Installing collected packages: glove-python\n",
            "Successfully installed glove-python-0.1.0\n"
          ],
          "name": "stdout"
        }
      ]
    },
    {
      "cell_type": "code",
      "metadata": {
        "colab": {
          "base_uri": "https://localhost:8080/"
        },
        "id": "RmU0g2Oh_cL6",
        "outputId": "106efaf3-d01a-4b65-a9d6-67e417ecc10d"
      },
      "source": [
        "# 내 드라이브에 대한 주소\r\n",
        "from google.colab import drive\r\n",
        "drive.mount('/gdrive', force_remount=True)"
      ],
      "execution_count": 2,
      "outputs": [
        {
          "output_type": "stream",
          "text": [
            "Mounted at /gdrive\n"
          ],
          "name": "stdout"
        }
      ]
    },
    {
      "cell_type": "code",
      "metadata": {
        "id": "E9CfaH0yAYcL"
      },
      "source": [
        "import numpy as np\r\n",
        "import pandas as pd\r\n",
        "import tensorflow as tf\r\n",
        "from tensorflow import keras\r\n",
        "import seaborn as sns\r\n",
        "import matplotlib.pyplot as plt"
      ],
      "execution_count": 3,
      "outputs": []
    },
    {
      "cell_type": "code",
      "metadata": {
        "id": "tR74GZMCBBuz"
      },
      "source": [
        "path = \"/gdrive/My Drive/dacon_news\"\r\n",
        "\r\n",
        "train = pd.read_csv(path + \"/data/news_train.csv\")\r\n",
        "test = pd.read_csv(path + \"/data/news_test.csv\")"
      ],
      "execution_count": 4,
      "outputs": []
    },
    {
      "cell_type": "markdown",
      "metadata": {
        "id": "ehHgLfhIMZ0U"
      },
      "source": [
        "# word 전처리 및 형태소 분리"
      ]
    },
    {
      "cell_type": "markdown",
      "metadata": {
        "id": "LtdL6HRMw01X"
      },
      "source": [
        "### 특수문자를 포함하지 않은 전처리"
      ]
    },
    {
      "cell_type": "code",
      "metadata": {
        "id": "znQHtCwjwqTa"
      },
      "source": [
        "from konlpy.tag import Mecab\r\n",
        "from konlpy.tag import Okt\r\n",
        "import re\r\n",
        "\r\n",
        "def text_preprocessing(text_list):\r\n",
        "    \r\n",
        "    stopwords = ['이'] #불용어 설정\r\n",
        "    \r\n",
        "    tokenizer = Mecab() #형태소 분석기 \r\n",
        "    token_list = [] \r\n",
        "    \r\n",
        "    for text in text_list:\r\n",
        "        txt = re.sub('[^가-힣]', ' ', text) #한글만 남기고 다른 글자 모두 제거\r\n",
        "        txt = re.sub('[가-힣\\s]+기자]','기자', txt) #기자 이름 제거\r\n",
        "        token = tokenizer.morphs(txt) #형태소 분석\r\n",
        "\r\n",
        "        #형태소 분석 결과 중 stopwords에 해당하지 않고, float type이 아닌 것만 수집\r\n",
        "        token = [t for t in token if t not in stopwords] \r\n",
        "        token_list.append(token)\r\n",
        "        \r\n",
        "    return token_list, tokenizer\r\n",
        "\r\n",
        "#형태소 분석기를 따로 저장한 이유는 후에 test 데이터 전처리를 진행할 때 이용해야 되기 때문입니다. \r\n",
        "train['new_article'], okt = text_preprocessing(train['content'])\r\n",
        "test['new_article'], okt = text_preprocessing(test['content'])"
      ],
      "execution_count": null,
      "outputs": []
    },
    {
      "cell_type": "markdown",
      "metadata": {
        "id": "i2n5mti3wnZ0"
      },
      "source": [
        "### 특수문자를 포함한 전처리"
      ]
    },
    {
      "cell_type": "code",
      "metadata": {
        "id": "Piur47l5A1TI"
      },
      "source": [
        "from konlpy.tag import Mecab\r\n",
        "import re\r\n",
        "from konlpy.tag import Okt\r\n",
        "\r\n",
        "def text_preprocessing(text_list):\r\n",
        "    \r\n",
        "    stopwords = ['이']\r\n",
        "    tokenizer = Mecab() #형태소 분석기\r\n",
        "\r\n",
        "    token_list = [] \r\n",
        "    \r\n",
        "    for text in text_list:\r\n",
        "        txt = re.sub('[a-zA-Z0-9]', ' ', text) #영문 제거\r\n",
        "        txt = re.sub('[가-힣\\s]+기자]','기자', txt) #기자 이름 제거\r\n",
        "        token = tokenizer.morphs(txt) #형태소 분석\r\n",
        "\r\n",
        "        token = [t for t in token if t not in stopwords] \r\n",
        "        token_list.append(token)\r\n",
        "        \r\n",
        "    return token_list, tokenizer\r\n",
        "\r\n",
        "#형태소 분석기를 따로 저장한 이유는 후에 test 데이터 전처리를 진행할 때 이용해야 되기 때문입니다.\r\n",
        "embedding_train = pd.concat([train[\"content\"],test[\"content\"]],axis=0)\r\n",
        "embedding_train, okt = text_preprocessing(embedding_train)"
      ],
      "execution_count": 63,
      "outputs": []
    },
    {
      "cell_type": "markdown",
      "metadata": {
        "id": "q2LhLilQIFWK"
      },
      "source": [
        "# Word2Vec 학습시키기"
      ]
    },
    {
      "cell_type": "code",
      "metadata": {
        "id": "Hp2dMIMsILWJ"
      },
      "source": [
        "from gensim.models.word2vec import Word2Vec"
      ],
      "execution_count": 6,
      "outputs": []
    },
    {
      "cell_type": "code",
      "metadata": {
        "id": "PuwkKJQBH6RO"
      },
      "source": [
        "embedding_model = Word2Vec(embedding_train,         # 리스트 형태의 데이터\r\n",
        "                 sg=1,          # 0: CBOW, 1: Skip-gram\r\n",
        "                 size = 300,      # 벡터 크기(300)\r\n",
        "                 window = 10,     # 고려할 앞뒤 폭(앞뒤 6단어)\r\n",
        "                 min_count = 30,  # 사용할 단어의 최소 빈도(30회 이하 단어 무시)\r\n",
        "                 workers = -1)    # 동시에 처리할 작업 수(코어 수와 비슷하게 설정)"
      ],
      "execution_count": 67,
      "outputs": []
    },
    {
      "cell_type": "code",
      "metadata": {
        "id": "NNdnzbXXJqtV"
      },
      "source": [
        "embedding_model.save(\"embedding_300_10_30_all.model\")"
      ],
      "execution_count": 68,
      "outputs": []
    },
    {
      "cell_type": "code",
      "metadata": {
        "colab": {
          "base_uri": "https://localhost:8080/"
        },
        "id": "LH6TVCIwM-4U",
        "outputId": "db3d887d-8e95-41ac-a1e3-cc7d6c85cc82"
      },
      "source": [
        "embedding_model.most_similar(\"종목\")"
      ],
      "execution_count": 70,
      "outputs": [
        {
          "output_type": "stream",
          "text": [
            "/usr/local/lib/python3.6/dist-packages/ipykernel_launcher.py:1: DeprecationWarning: Call to deprecated `most_similar` (Method will be removed in 4.0.0, use self.wv.most_similar() instead).\n",
            "  \"\"\"Entry point for launching an IPython kernel.\n"
          ],
          "name": "stderr"
        },
        {
          "output_type": "execute_result",
          "data": {
            "text/plain": [
              "[('새로', 0.2245328724384308),\n",
              " ('뛴', 0.20319154858589172),\n",
              " ('성장세', 0.20244765281677246),\n",
              " ('닷새', 0.19612061977386475),\n",
              " ('야기', 0.1954067051410675),\n",
              " ('식사', 0.17853125929832458),\n",
              " ('임대', 0.1767268031835556),\n",
              " ('든지', 0.1745581179857254),\n",
              " ('중립', 0.16294974088668823),\n",
              " ('독감', 0.16176140308380127)]"
            ]
          },
          "metadata": {
            "tags": []
          },
          "execution_count": 70
        }
      ]
    },
    {
      "cell_type": "code",
      "metadata": {
        "colab": {
          "base_uri": "https://localhost:8080/"
        },
        "id": "GcjyjF9aNAv9",
        "outputId": "328340e8-08dc-4e64-e441-40f5393ca30c"
      },
      "source": [
        "embedding_model.most_similar('카톡')"
      ],
      "execution_count": 56,
      "outputs": [
        {
          "output_type": "stream",
          "text": [
            "/usr/local/lib/python3.6/dist-packages/ipykernel_launcher.py:1: DeprecationWarning: Call to deprecated `most_similar` (Method will be removed in 4.0.0, use self.wv.most_similar() instead).\n",
            "  \"\"\"Entry point for launching an IPython kernel.\n"
          ],
          "name": "stderr"
        },
        {
          "output_type": "execute_result",
          "data": {
            "text/plain": [
              "[('방사광', 0.2288285493850708),\n",
              " ('폰', 0.21296778321266174),\n",
              " ('대원', 0.210852712392807),\n",
              " ('노리', 0.20738786458969116),\n",
              " ('분양', 0.20020851492881775),\n",
              " ('봉', 0.19835519790649414),\n",
              " ('형사', 0.19768759608268738),\n",
              " ('마켓', 0.19744479656219482),\n",
              " ('기원', 0.19487667083740234),\n",
              " ('푸르', 0.19428278505802155)]"
            ]
          },
          "metadata": {
            "tags": []
          },
          "execution_count": 56
        }
      ]
    }
  ]
}